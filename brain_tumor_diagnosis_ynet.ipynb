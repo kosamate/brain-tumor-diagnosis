{
 "cells": [
  {
   "cell_type": "markdown",
   "metadata": {
    "id": "SG_ZMxBjplLX"
   },
   "source": [
    "Set up kaggle creditentals."
   ]
  },
  {
   "cell_type": "code",
   "execution_count": null,
   "metadata": {
    "id": "gsDFjqhdBIbz"
   },
   "outputs": [],
   "source": [
    "import os\n",
    "import pathlib\n",
    "DRIVE_PATH = pathlib.Path(\"/content/drive/MyDrive/brain\")\n",
    "os.environ[\"KAGGLE_USERNAME\"] = \"\" # add your username\n",
    "os.environ[\"KAGGLE_KEY\"] = \"\" # add your kaggle key"
   ]
  },
  {
   "cell_type": "markdown",
   "metadata": {
    "id": "p1ofAFZlpoAM"
   },
   "source": [
    "Download the dataset"
   ]
  },
  {
   "cell_type": "code",
   "execution_count": 3,
   "metadata": {
    "colab": {
     "base_uri": "https://localhost:8080/"
    },
    "id": "4I4BbaH3BuIU",
    "outputId": "e241120d-735f-4845-a6a1-ede5fe470fae"
   },
   "outputs": [
    {
     "name": "stdout",
     "output_type": "stream",
     "text": [
      "Dataset URL: https://www.kaggle.com/datasets/ashkhagan/figshare-brain-tumor-dataset\n"
     ]
    }
   ],
   "source": [
    "import kaggle\n",
    "kaggle.api.authenticate()\n",
    "# https://www.kaggle.com/datasets/ashkhagan/figshare-brain-tumor-dataset\n",
    "kaggle.api.dataset_download_files(\"ashkhagan/figshare-brain-tumor-dataset\", path=\"/content/data\", unzip=True, quiet=True)"
   ]
  },
  {
   "cell_type": "markdown",
   "metadata": {
    "id": "f8B5LoG9pq4T"
   },
   "source": [
    "Set up hyperparameters"
   ]
  },
  {
   "cell_type": "code",
   "execution_count": 4,
   "metadata": {
    "id": "4_f7BYKP2FWQ"
   },
   "outputs": [],
   "source": [
    "import torch\n",
    "device = torch.device(\"cuda:0\" if torch.cuda.is_available() else \"cpu\")\n",
    "class HyperParameters():\n",
    "    SEGMENTATION_MODEL_PATH = DRIVE_PATH / \"separated3UNet.pt\"\n",
    "    CLASSIFICATION_MODEL_PATH = DRIVE_PATH / \"class.pt\"\n",
    "    CLASS_DATA_PATH = pathlib.Path(\"/content/class/\")\n",
    "    DATASET_PATH = pathlib.Path(\"/content/data/dataset/data\")\n",
    "    SEG_DATA_PATH = pathlib.Path(\"/content/seg\")\n",
    "\n",
    "    LEARNING_RATE = 0.0002\n",
    "    EPOCHS = 40\n",
    "    IMAGE_SIZE = 256\n",
    "    BATCH_SIZE = 16"
   ]
  },
  {
   "cell_type": "code",
   "execution_count": null,
   "metadata": {
    "id": "fcf0Ry5GLGXt"
   },
   "outputs": [],
   "source": [
    "!rm -rf /content/seg"
   ]
  },
  {
   "cell_type": "markdown",
   "metadata": {
    "id": "D7Dt6X21dyt0"
   },
   "source": [
    "Copy the mat files to training, validation and test folder.\n",
    "\n",
    "Slices:\n",
    "*   train: 2383\n",
    "*   val: 360\n",
    "*   test: 321\n",
    "\n"
   ]
  },
  {
   "cell_type": "code",
   "execution_count": 5,
   "metadata": {
    "colab": {
     "base_uri": "https://localhost:8080/"
    },
    "id": "Nk0ST5zVHU1D",
    "outputId": "4fad68c7-97d7-4a11-9891-d7c507e7c675"
   },
   "outputs": [
    {
     "name": "stdout",
     "output_type": "stream",
     "text": [
      "0.0%\n",
      "6.5%\n",
      "13.1%\n",
      "19.6%\n",
      "26.1%\n",
      "32.6%\n",
      "39.2%\n",
      "45.7%\n",
      "52.2%\n",
      "58.7%\n",
      "65.3%\n",
      "71.8%\n",
      "78.3%\n",
      "84.9%\n",
      "91.4%\n",
      "97.9%\n"
     ]
    }
   ],
   "source": [
    "import shutil\n",
    "import h5py\n",
    "import numpy as np\n",
    "(HyperParameters.SEG_DATA_PATH / \"train\").mkdir(exist_ok=True, parents=True)\n",
    "(HyperParameters.SEG_DATA_PATH / \"val\").mkdir(exist_ok=True, parents=True)\n",
    "(HyperParameters.SEG_DATA_PATH / \"test\").mkdir(exist_ok=True, parents=True)\n",
    "patients = []\n",
    "size = len(list(HyperParameters.DATASET_PATH.glob(\"*.mat\")))\n",
    "for i, mat_path in enumerate(HyperParameters.DATASET_PATH.glob(\"*.mat\")):\n",
    "    with h5py.File(mat_path, \"r\") as mat_file:\n",
    "        pat_id = np.array([np.int8(x[0]) for x in mat_file[\"cjdata\"][\"PID\"][:]]).tobytes().decode()\n",
    "        if pat_id not in patients:\n",
    "            patients.append(pat_id)\n",
    "        sn = patients.index(pat_id) % 10\n",
    "        purpose = \"train\"\n",
    "        if sn == 8:\n",
    "            purpose = \"val\"\n",
    "        elif sn == 9:\n",
    "            purpose = \"test\"\n",
    "        new_path = HyperParameters.SEG_DATA_PATH / purpose\n",
    "        shutil.copy(mat_path, new_path)\n",
    "    if i % 200 == 0:\n",
    "        print(f\"{i/size*100:.1f}%\")"
   ]
  },
  {
   "cell_type": "markdown",
   "metadata": {
    "id": "DKaRYiphfCG8"
   },
   "source": [
    "Transformation"
   ]
  },
  {
   "cell_type": "code",
   "execution_count": 6,
   "metadata": {
    "id": "uFvco1iKETD8"
   },
   "outputs": [],
   "source": [
    "from torchvision.transforms import v2\n",
    "import torch\n",
    "\n",
    "transform = v2.Compose([\n",
    "    v2.ToImage(),\n",
    "    v2.ToDtype(torch.float32, scale=True),\n",
    "    v2.Resize((256, 256)),\n",
    "])"
   ]
  },
  {
   "cell_type": "markdown",
   "metadata": {
    "id": "p4TzNtxTe1tC"
   },
   "source": [
    "Custom Dataset class with the fetched information"
   ]
  },
  {
   "cell_type": "code",
   "execution_count": null,
   "metadata": {
    "id": "KQiPxIEKGCQw"
   },
   "outputs": [],
   "source": [
    "from torch.utils.data import Dataset\n",
    "import pathlib\n",
    "import numpy as np\n",
    "from torchvision.transforms import v2\n",
    "from typing import NamedTuple\n",
    "import torch\n",
    "import h5py\n",
    "import torchvision.transforms.functional as TF\n",
    "\n",
    "class BrainDiagnosis(NamedTuple):\n",
    "    mask: torch.Tensor\n",
    "    label: int\n",
    "\n",
    "class BrainImageItem(NamedTuple):\n",
    "    image: torch.Tensor\n",
    "    mask: torch.Tensor\n",
    "    label: int\n",
    "    patient: str\n",
    "\n",
    "class BrainImageDataset(Dataset):\n",
    "    def __init__(self, path: pathlib.Path, transform: v2.Transform) -> None:\n",
    "        self._slices: list[pathlib.Path] = []\n",
    "        self._transform = transform\n",
    "        self._class_mapping = {1: 0, 2: 1, 3: 2}\n",
    "\n",
    "        for mat in path.glob(\"*.mat\"):\n",
    "            self._slices.append(mat)\n",
    "        self._slices.sort(key=lambda i: i.name)\n",
    "\n",
    "    def __getitem__(self, index) -> BrainImageItem:\n",
    "        h5_path = self._slices[index]\n",
    "        with h5py.File(h5_path, \"r\") as mat_file:\n",
    "            image = self._transform(mat_file[\"cjdata\"][\"image\"][:]).view((256, 256))\n",
    "            mask = self._transform(mat_file[\"cjdata\"][\"tumorMask\"][:])\n",
    "            label = int(mat_file[\"cjdata\"][\"label\"][0][0])\n",
    "            patient = np.array([np.int8(x[0]) for x in mat_file[\"cjdata\"][\"PID\"][:]]).tobytes().decode()\n",
    "\n",
    "        label = self._class_mapping[label]\n",
    "\n",
    "        image = TF.adjust_brightness(image, 6.0)\n",
    "\n",
    "        mask = (mask > 0).float()\n",
    "\n",
    "        image = torch.stack((image, image, image), dim=0)\n",
    "\n",
    "        return BrainImageItem(image, mask, label, patient)\n",
    "\n",
    "    def __len__(self) -> int:\n",
    "        return len(self._slices)\n",
    "\n",
    "train_ds = BrainImageDataset(HyperParameters.SEG_DATA_PATH / \"train\", transform)\n",
    "val_ds = BrainImageDataset(HyperParameters.SEG_DATA_PATH / \"val\", transform)\n",
    "test_ds = BrainImageDataset(HyperParameters.SEG_DATA_PATH / \"test\", transform)\n"
   ]
  },
  {
   "cell_type": "markdown",
   "metadata": {
    "id": "i_9of4nYevf-"
   },
   "source": [
    "Initialize data loaders"
   ]
  },
  {
   "cell_type": "code",
   "execution_count": null,
   "metadata": {
    "id": "kJyWJV2CyNKC"
   },
   "outputs": [],
   "source": [
    "from torch.utils.data import DataLoader\n",
    "\n",
    "train_dl = DataLoader(dataset=train_ds, batch_size=HyperParameters.BATCH_SIZE, shuffle=True)\n",
    "\n",
    "test_dl = DataLoader(dataset=test_ds, batch_size=HyperParameters.BATCH_SIZE, shuffle=False)\n",
    "\n",
    "val_dl = DataLoader(dataset=val_ds, batch_size=HyperParameters.BATCH_SIZE, shuffle=False)"
   ]
  },
  {
   "cell_type": "code",
   "execution_count": 9,
   "metadata": {
    "id": "FjhoPA861N03"
   },
   "outputs": [],
   "source": [
    "import collections\n",
    "import torch\n",
    "import torch.nn as nn\n",
    "from torch.nn import functional as F\n",
    "\n",
    "class BrainAnalyserModel(nn.Module):\n",
    "  def __init__(self) -> None:\n",
    "    super().__init__()\n",
    "    features = 32\n",
    "    self.encoder1 = BrainAnalyserModel._block(3, features, name=\"enc1\")\n",
    "    self.pool1 = nn.MaxPool2d(kernel_size=2, stride=2)\n",
    "    self.encoder2 = BrainAnalyserModel._block(features, features * 2, name=\"enc2\")\n",
    "    self.pool2 = nn.MaxPool2d(kernel_size=2, stride=2)\n",
    "    self.encoder3 = BrainAnalyserModel._block(features * 2, features * 4, name=\"enc3\")\n",
    "    self.pool3 = nn.MaxPool2d(kernel_size=2, stride=2)\n",
    "    self.encoder4 = BrainAnalyserModel._block(features * 4, features * 8, name=\"enc4\")\n",
    "    self.pool4 = nn.MaxPool2d(kernel_size=2, stride=2)\n",
    "\n",
    "    self.bottleneck = BrainAnalyserModel._block(features * 8, features * 16, name=\"bottleneck\")\n",
    "\n",
    "    # segmentation\n",
    "    self.upconv4 = nn.ConvTranspose2d(\n",
    "        features * 16, features * 8, kernel_size=2, stride=2\n",
    "    )\n",
    "    self.decoder4 = BrainAnalyserModel._block((features * 8) * 2, features * 8, name=\"dec4\")\n",
    "    self.upconv3 = nn.ConvTranspose2d(\n",
    "        features * 8, features * 4, kernel_size=2, stride=2\n",
    "    )\n",
    "    self.decoder3 = BrainAnalyserModel._block((features * 4) * 2, features * 4, name=\"dec3\")\n",
    "    self.upconv2 = nn.ConvTranspose2d(\n",
    "        features * 4, features * 2, kernel_size=2, stride=2\n",
    "    )\n",
    "    self.decoder2 = BrainAnalyserModel._block((features * 2) * 2, features * 2, name=\"dec2\")\n",
    "    self.upconv1 = nn.ConvTranspose2d(\n",
    "        features * 2, features, kernel_size=2, stride=2\n",
    "    )\n",
    "    self.decoder1 = BrainAnalyserModel._block(features * 2, features, name=\"dec1\")\n",
    "\n",
    "    self.conv = nn.Conv2d(\n",
    "        in_channels=features, out_channels=1, kernel_size=1\n",
    "    )\n",
    "\n",
    "    # classification\n",
    "    self.fc1 = nn.Linear(features * 16 * 16 * 16, features * 4)\n",
    "    self.bn = nn.BatchNorm1d(features * 4)\n",
    "    self.fc2 = nn.Linear(features * 4, features * 2)\n",
    "    self.fc3 = nn.Linear(features * 2, 3)\n",
    "\n",
    "  def forward(self, x) -> BrainDiagnosis:\n",
    "      enc1 = self.encoder1(x)\n",
    "      enc2 = self.encoder2(self.pool1(enc1))\n",
    "      enc3 = self.encoder3(self.pool2(enc2))\n",
    "      enc4 = self.encoder4(self.pool3(enc3))\n",
    "\n",
    "      bottleneck = self.bottleneck(self.pool4(enc4))\n",
    "\n",
    "      # segmentation\n",
    "      dec4 = self.upconv4(bottleneck)\n",
    "      dec4 = torch.cat((dec4, enc4), dim=1)\n",
    "      dec4 = self.decoder4(dec4)\n",
    "      dec3 = self.upconv3(dec4)\n",
    "      dec3 = torch.cat((dec3, enc3), dim=1)\n",
    "      dec3 = self.decoder3(dec3)\n",
    "      dec2 = self.upconv2(dec3)\n",
    "      dec2 = torch.cat((dec2, enc2), dim=1)\n",
    "      dec2 = self.decoder2(dec2)\n",
    "      dec1 = self.upconv1(dec2)\n",
    "      dec1 = torch.cat((dec1, enc1), dim=1)\n",
    "      dec1 = self.decoder1(dec1)\n",
    "      seg = torch.sigmoid(self.conv(dec1))\n",
    "\n",
    "      # classification\n",
    "      cl = bottleneck.view(-1, 32 * 16 * 16 * 16)\n",
    "      cl = F.relu(self.bn(self.fc1(cl)))\n",
    "      cl = F.relu(self.fc2(cl))\n",
    "      cl = F.log_softmax(self.fc3(cl), dim=1)\n",
    "\n",
    "      return BrainDiagnosis(seg, cl)\n",
    "\n",
    "  @staticmethod\n",
    "  def _block(in_channels, features, name):\n",
    "      return nn.Sequential(\n",
    "          collections.OrderedDict(\n",
    "              [\n",
    "                  (\n",
    "                      name + \"conv1\",\n",
    "                      nn.Conv2d(\n",
    "                          in_channels=in_channels,\n",
    "                          out_channels=features,\n",
    "                          kernel_size=3,\n",
    "                          padding=1,\n",
    "                          bias=False,\n",
    "                      ),\n",
    "                  ),\n",
    "                  (name + \"norm1\", nn.BatchNorm2d(num_features=features)),\n",
    "                  (name + \"relu1\", nn.ReLU(inplace=True)),\n",
    "                  (\n",
    "                      name + \"conv2\",\n",
    "                      nn.Conv2d(\n",
    "                          in_channels=features,\n",
    "                          out_channels=features,\n",
    "                          kernel_size=3,\n",
    "                          padding=1,\n",
    "                          bias=False,\n",
    "                      ),\n",
    "                  ),\n",
    "                  (name + \"norm2\", nn.BatchNorm2d(num_features=features)),\n",
    "                  (name + \"relu2\", nn.ReLU(inplace=True)),\n",
    "              ]\n",
    "          )\n",
    "      )"
   ]
  },
  {
   "cell_type": "markdown",
   "metadata": {
    "id": "13xpLzk-fic6"
   },
   "source": [
    "Load a trained model (Optional)"
   ]
  },
  {
   "cell_type": "code",
   "execution_count": 10,
   "metadata": {
    "colab": {
     "base_uri": "https://localhost:8080/"
    },
    "id": "CZHBq7W8fh8R",
    "outputId": "8aa438e9-ae1c-4720-9a1b-565b999bacdc"
   },
   "outputs": [
    {
     "name": "stdout",
     "output_type": "stream",
     "text": [
      "Model loaded\n"
     ]
    }
   ],
   "source": [
    "net = BrainAnalyserModel()\n",
    "if device == \"cuda:0\":\n",
    "    net.load_state_dict(torch.load(\"/content/drive/MyDrive/brain/Ynet.pt\", weights_only=True))\n",
    "else:\n",
    "    net.load_state_dict(torch.load(\"/content/drive/MyDrive/brain/Ynet.pt\", map_location=torch.device('cpu'), weights_only=True))\n",
    "net.to(device)\n",
    "print(\"Model loaded\")"
   ]
  },
  {
   "cell_type": "markdown",
   "metadata": {
    "id": "B1nJey3giqBx"
   },
   "source": [
    "Definition of Dice Loss"
   ]
  },
  {
   "cell_type": "code",
   "execution_count": 11,
   "metadata": {
    "id": "v_MRTFpd2nsl"
   },
   "outputs": [],
   "source": [
    "import torch.nn as nn\n",
    "\n",
    "class DiceLoss(nn.Module):\n",
    "    def __init__(self):\n",
    "        super().__init__()\n",
    "        self.smooth = 1.0\n",
    "\n",
    "    def forward(self, y_pred, y_true):\n",
    "        assert y_pred.size() == y_true.size(), f\"pred: {y_pred.size()}, true: {y_true.size()}\"\n",
    "        y_pred = y_pred[:, 0].contiguous().view(-1)\n",
    "        y_true = y_true[:, 0].contiguous().view(-1)\n",
    "        intersection = (y_pred * y_true).sum()\n",
    "        dsc = (2.0 * intersection + 1.0) / (y_pred.sum() + y_true.sum() + 1.0)\n",
    "        return 1.0 - dsc"
   ]
  },
  {
   "cell_type": "markdown",
   "metadata": {
    "id": "iA2YJLdSSCRG"
   },
   "source": [
    "Initialize the network, loss and optimizer."
   ]
  },
  {
   "cell_type": "code",
   "execution_count": 10,
   "metadata": {
    "id": "NvrCAfQ7SNPz"
   },
   "outputs": [],
   "source": [
    "import torch\n",
    "\n",
    "net = BrainAnalyserModel()\n",
    "net = net.to(device)\n",
    "\n",
    "dice_loss_func = DiceLoss().to(device)\n",
    "cross_entropy_loss_func = torch.nn.CrossEntropyLoss().to(device)\n",
    "\n",
    "optimizer = torch.optim.Adam(net.parameters(), lr=HyperParameters.LEARNING_RATE)"
   ]
  },
  {
   "cell_type": "markdown",
   "metadata": {
    "id": "Mu7JICJS_tU_"
   },
   "source": [
    "Helper function for training."
   ]
  },
  {
   "cell_type": "code",
   "execution_count": 15,
   "metadata": {
    "id": "fZUEeIdx_rRg"
   },
   "outputs": [],
   "source": [
    "def log_summary(loss_list1: list[float], loss_list2: list[float], prefix=\"\"):\n",
    "    sum = np.mean([loss_list1[i] + loss_list2[i] for i in range(len(loss_list1))])\n",
    "    print(f\"{prefix}loss: {sum}, segmentation: {np.mean(loss_list1)}, classification: {np.mean(loss_list2)}\\n\")\n",
    "\n",
    "def add_loss_by_patient(loss: dict[str, list[float]],\n",
    "                        id: list[str],\n",
    "                        loss_func: nn.Module,\n",
    "                        y_pred: list[torch.Tensor],\n",
    "                        y_true: list[torch.Tensor]):\n",
    "    for i, patient_id in enumerate(id):\n",
    "            if patient_id not in loss:\n",
    "                loss.setdefault(patient_id, [])\n",
    "            l = loss_func(y_pred[i], y_true[i])\n",
    "            loss[patient_id].append(l.detach().cpu().numpy())"
   ]
  },
  {
   "cell_type": "markdown",
   "metadata": {
    "id": "FEDKOBy6QPFe"
   },
   "source": [
    "Training"
   ]
  },
  {
   "cell_type": "code",
   "execution_count": 13,
   "metadata": {
    "colab": {
     "base_uri": "https://localhost:8080/"
    },
    "id": "ANTyO3sUGOQa",
    "outputId": "993e4cf1-7682-49d3-d087-4edb24685533"
   },
   "outputs": [
    {
     "name": "stdout",
     "output_type": "stream",
     "text": [
      "===== EPOCH 0 =====\n",
      "\n",
      "train_loss: 1.6092870235443115, segmentation: 0.987152099609375, classification: 0.6221349239349365\n",
      "\n",
      "val_loss: 1.3825091123580933, segmentation: 0.9838265776634216, classification: 0.3986824154853821\n",
      "\n",
      "===== EPOCH 1 =====\n",
      "\n",
      "train_loss: 1.3535977602005005, segmentation: 0.9766274094581604, classification: 0.3769703209400177\n",
      "\n",
      "val_loss: 1.4145779609680176, segmentation: 0.9705901145935059, classification: 0.44398775696754456\n",
      "\n",
      "===== EPOCH 2 =====\n",
      "\n",
      "train_loss: 1.224308729171753, segmentation: 0.9567742347717285, classification: 0.2675343453884125\n",
      "\n",
      "val_loss: 1.2435493469238281, segmentation: 0.941785454750061, classification: 0.30176377296447754\n",
      "\n",
      "===== EPOCH 3 =====\n",
      "\n",
      "train_loss: 1.118172287940979, segmentation: 0.9118107557296753, classification: 0.20636138319969177\n",
      "\n",
      "val_loss: 1.0784497261047363, segmentation: 0.8764433860778809, classification: 0.20200639963150024\n",
      "\n",
      "===== EPOCH 4 =====\n",
      "\n",
      "train_loss: 0.9871158599853516, segmentation: 0.8240387439727783, classification: 0.16307717561721802\n",
      "\n",
      "val_loss: 0.8717349767684937, segmentation: 0.7598561644554138, classification: 0.11187873035669327\n",
      "\n",
      "===== EPOCH 5 =====\n",
      "\n",
      "train_loss: 0.7787156105041504, segmentation: 0.670132040977478, classification: 0.1085834875702858\n",
      "\n",
      "val_loss: 0.8660839796066284, segmentation: 0.6211746335029602, classification: 0.244909405708313\n",
      "\n",
      "===== EPOCH 6 =====\n",
      "\n",
      "train_loss: 0.5684600472450256, segmentation: 0.4978967308998108, classification: 0.07056323438882828\n",
      "\n",
      "val_loss: 0.6302483081817627, segmentation: 0.4137699007987976, classification: 0.2164783924818039\n",
      "\n",
      "===== EPOCH 7 =====\n",
      "\n",
      "train_loss: 0.426647812128067, segmentation: 0.3638235926628113, classification: 0.06282423436641693\n",
      "\n",
      "val_loss: 0.48992231488227844, segmentation: 0.28061535954475403, classification: 0.2093069702386856\n",
      "\n",
      "===== EPOCH 8 =====\n",
      "\n",
      "train_loss: 0.3117716908454895, segmentation: 0.27135443687438965, classification: 0.040417253971099854\n",
      "\n",
      "val_loss: 0.5007795691490173, segmentation: 0.2700398564338684, classification: 0.23073968291282654\n",
      "\n",
      "===== EPOCH 9 =====\n",
      "\n",
      "train_loss: 0.24247275292873383, segmentation: 0.19958001375198364, classification: 0.04289276897907257\n",
      "\n",
      "val_loss: 0.423340767621994, segmentation: 0.2024267017841339, classification: 0.22091403603553772\n",
      "\n",
      "===== EPOCH 10 =====\n",
      "\n",
      "train_loss: 0.1669713258743286, segmentation: 0.14847451448440552, classification: 0.01849682629108429\n",
      "\n",
      "val_loss: 0.3402576744556427, segmentation: 0.1637721210718155, classification: 0.17648552358150482\n",
      "\n",
      "===== EPOCH 11 =====\n",
      "\n",
      "train_loss: 0.1389874368906021, segmentation: 0.12268663197755814, classification: 0.01630079373717308\n",
      "\n",
      "val_loss: 0.3607673645019531, segmentation: 0.11030440777540207, classification: 0.25046294927597046\n",
      "\n",
      "===== EPOCH 12 =====\n",
      "\n",
      "train_loss: 0.12408889830112457, segmentation: 0.0935765951871872, classification: 0.030512310564517975\n",
      "\n",
      "val_loss: 0.2712634801864624, segmentation: 0.07598685473203659, classification: 0.1952766329050064\n",
      "\n",
      "===== EPOCH 13 =====\n",
      "\n",
      "train_loss: 0.11360783129930496, segmentation: 0.08238852769136429, classification: 0.03121930919587612\n",
      "\n",
      "val_loss: 0.2528037428855896, segmentation: 0.10185585170984268, classification: 0.15094789862632751\n",
      "\n",
      "===== EPOCH 14 =====\n",
      "\n",
      "train_loss: 0.08066240698099136, segmentation: 0.06380927562713623, classification: 0.016853133216500282\n",
      "\n",
      "val_loss: 0.194644495844841, segmentation: 0.058876145631074905, classification: 0.1357683390378952\n",
      "\n",
      "===== EPOCH 15 =====\n",
      "\n",
      "train_loss: 0.07059890031814575, segmentation: 0.05089924484491348, classification: 0.01969965361058712\n",
      "\n",
      "val_loss: 0.19154274463653564, segmentation: 0.05142005532979965, classification: 0.1401226967573166\n",
      "\n",
      "===== EPOCH 16 =====\n",
      "\n",
      "train_loss: 0.06509210169315338, segmentation: 0.04665406793355942, classification: 0.018438022583723068\n",
      "\n",
      "val_loss: 0.21155546605587006, segmentation: 0.034195493906736374, classification: 0.17735996842384338\n",
      "\n",
      "===== EPOCH 17 =====\n",
      "\n",
      "train_loss: 0.05248940736055374, segmentation: 0.03860959783196449, classification: 0.013879814185202122\n",
      "\n",
      "val_loss: 0.1878608763217926, segmentation: 0.030985314399003983, classification: 0.1568755954504013\n",
      "\n",
      "===== EPOCH 18 =====\n",
      "\n",
      "train_loss: 0.04933365061879158, segmentation: 0.03643430769443512, classification: 0.01289934292435646\n",
      "\n",
      "val_loss: 0.22543752193450928, segmentation: 0.025886500254273415, classification: 0.1995510458946228\n",
      "\n",
      "Best model: 17\n"
     ]
    },
    {
     "data": {
      "text/plain": [
       "<All keys matched successfully>"
      ]
     },
     "execution_count": 13,
     "metadata": {},
     "output_type": "execute_result"
    }
   ],
   "source": [
    "dice_loss_train: dict[str, list[float]] = {}\n",
    "dice_loss_valid: dict[str, list[float]] = {}\n",
    "ce_loss_train: dict[str, list[float]] = {}\n",
    "ce_loss_valid: dict[str, list[float]] = {}\n",
    "history: dict[str, list[float | dict]] = {\"d_train\": [], \"d_valid\": [], \"ce_train\": [], \"ce_valid\": [], \"valid\": [], \"model\": []}\n",
    "\n",
    "for epoch in range(HyperParameters.EPOCHS):\n",
    "    print(f\"===== EPOCH {epoch} =====\\n\")\n",
    "\n",
    "    # training\n",
    "    for i, data in enumerate(train_dl):\n",
    "\n",
    "        x, y_true_mask, y_true_label, patient_id = data\n",
    "        x, y_true_mask, y_true_label = x.to(device), y_true_mask.to(device), y_true_label.to(device)\n",
    "        net.train()\n",
    "        optimizer.zero_grad()\n",
    "\n",
    "        y_pred_mask, y_pred_label = net(x)\n",
    "\n",
    "        dice_loss = dice_loss_func(y_pred_mask, y_true_mask)\n",
    "        ce_loss = cross_entropy_loss_func(y_pred_label, y_true_label)\n",
    "        loss = dice_loss + ce_loss\n",
    "\n",
    "        add_loss_by_patient(dice_loss_train, patient_id, dice_loss_func, y_pred_mask, y_true_mask)\n",
    "        add_loss_by_patient(ce_loss_train, patient_id, cross_entropy_loss_func, y_pred_label, y_true_label)\n",
    "        loss.backward()\n",
    "        optimizer.step()\n",
    "\n",
    "    # train loss\n",
    "    dice_patient_loss = []\n",
    "    ce_patient_loss = []\n",
    "    for patient in dice_loss_train:\n",
    "        dice_patient_loss.append(np.mean(dice_loss_train[patient]))\n",
    "        ce_patient_loss.append(np.mean(ce_loss_train[patient]))\n",
    "\n",
    "    log_summary(dice_patient_loss, ce_patient_loss, prefix=\"train_\")\n",
    "    history[\"d_train\"].append(np.mean(dice_patient_loss))\n",
    "    history[\"ce_train\"].append(np.mean(ce_patient_loss))\n",
    "    dice_loss_train = {}\n",
    "    ce_loss_train = {}\n",
    "\n",
    "    # validation\n",
    "    for i, valid_data in enumerate(val_dl):\n",
    "        x, y_true_mask, y_true_label, patient_id = valid_data\n",
    "        x, y_true_mask, y_true_label = x.to(device), y_true_mask.to(device), y_true_label.to(device)\n",
    "\n",
    "        net.eval()\n",
    "        optimizer.zero_grad()\n",
    "\n",
    "        with torch.no_grad():\n",
    "            y_pred_mask, y_pred_label = net(x)\n",
    "\n",
    "        add_loss_by_patient(dice_loss_valid, patient_id, dice_loss_func, y_pred_mask, y_true_mask)\n",
    "        add_loss_by_patient(ce_loss_valid, patient_id, cross_entropy_loss_func, y_pred_label, y_true_label)\n",
    "\n",
    "    # valid loss\n",
    "    dice_patient_loss = []\n",
    "    ce_patient_loss = []\n",
    "    for patient in dice_loss_valid:\n",
    "        dice_patient_loss.append(np.mean(dice_loss_valid[patient]))\n",
    "        ce_patient_loss.append(np.mean(ce_loss_valid[patient]))\n",
    "\n",
    "    log_summary(dice_patient_loss, ce_patient_loss, prefix=\"val_\")\n",
    "    history[\"d_valid\"].append(np.mean(dice_patient_loss))\n",
    "    history[\"ce_valid\"].append(np.mean(ce_patient_loss))\n",
    "    history[\"valid\"].append(history[\"d_valid\"][-1] + history[\"ce_valid\"][-1])\n",
    "    history[\"model\"].append(net.state_dict())\n",
    "    dice_loss_valid = {}\n",
    "    ce_loss_valid = {}\n",
    "\n",
    "    if (epoch > 3\n",
    "        and history[\"valid\"][-1] > history[\"valid\"][-2]\n",
    "        and history[\"valid\"][-1] > history[\"valid\"][-3]\n",
    "        and history[\"valid\"][-1] > history[\"valid\"][-4]):\n",
    "        break\n",
    "\n",
    "best_model = history[\"valid\"].index(min([loss.sum() for loss in history[\"valid\"]]))\n",
    "print(f\"Best model: {best_model}\")\n",
    "net.load_state_dict(history[\"model\"][best_model])"
   ]
  },
  {
   "cell_type": "markdown",
   "metadata": {},
   "source": [
    "Saving model (Optional)"
   ]
  },
  {
   "cell_type": "code",
   "execution_count": 16,
   "metadata": {
    "id": "kn2ZyAqak-Yw"
   },
   "outputs": [],
   "source": [
    "torch.save(net.state_dict(), \"/content/drive/MyDrive/brain/Ynet.pt\")"
   ]
  },
  {
   "cell_type": "markdown",
   "metadata": {
    "id": "45n6XCG19Cjn"
   },
   "source": [
    "Plot training loss"
   ]
  },
  {
   "cell_type": "code",
   "execution_count": null,
   "metadata": {
    "colab": {
     "base_uri": "https://localhost:8080/",
     "height": 472
    },
    "id": "tdKfz8wx9B1X",
    "outputId": "f84a2ce1-8cd5-4df5-f6a1-243899d23c3c"
   },
   "outputs": [],
   "source": [
    "import matplotlib.pyplot as plt\n",
    "history[\"train\"] = [history[\"train_d\"][i] + history[\"train_ce\"][i] for i in range(len(history[\"train_d\"]))]\n",
    "x_label = [int(x) for x in range(1, len(history[\"train\"]) + 1)]\n",
    "fig, ax = plt.subplots(1,3, figsize=(14, 4))\n",
    "ax[0].plot(x_label, history[\"train\"], label=\"train\")\n",
    "ax[0].plot(x_label, history[\"valid\"], label=\"validation\")\n",
    "ax[0].set_xlabel(\"epoch\")\n",
    "ax[0].set_ylabel(\"loss\")\n",
    "ax[0].set_title(\"Aggregated loss\")\n",
    "ax[0].legend()\n",
    "\n",
    "ax[1].plot(x_label, history[\"d_train\"], label=\"train\")\n",
    "ax[1].plot(x_label, history[\"d_valid\"], label=\"validation\")\n",
    "ax[1].set_xlabel(\"epoch\")\n",
    "ax[1].set_ylabel(\"Dice loss\")\n",
    "ax[1].set_title(\"Segmentation loss\")\n",
    "ax[1].legend()\n",
    "\n",
    "ax[2].plot(x_label, history[\"ce_train\"], label=\"train\")\n",
    "ax[2].plot(x_label, history[\"ce_valid\"], label=\"validation\")\n",
    "ax[2].set_xlabel(\"epoch\")\n",
    "ax[2].set_ylabel(\"cross entropy loss\")\n",
    "ax[2].set_title(\"Classification loss\")\n",
    "ax[2].legend()\n",
    "\n",
    "plt.show()"
   ]
  },
  {
   "cell_type": "markdown",
   "metadata": {},
   "source": [
    "Helper functions"
   ]
  },
  {
   "cell_type": "code",
   "execution_count": null,
   "metadata": {
    "id": "5eU_-sLl3Uu7"
   },
   "outputs": [],
   "source": [
    "from operator import imod\n",
    "import matplotlib.pyplot as plt\n",
    "import matplotlib.patches\n",
    "import torch\n",
    "import torch.nn as nn\n",
    "\n",
    "def show_image(image_ds: BrainImageDataset, index: int) -> None:\n",
    "    plt.imshow(np.squeeze(image_ds[index].image).T)\n",
    "    plt.title(image_ds[index].patient)\n",
    "\n",
    "def show_mask(image_ds: BrainImageDataset, index: int) -> None:\n",
    "    plt.imshow(np.squeeze(image_ds[index].mask).T, cmap=\"gray\")\n",
    "    plt.title(image_ds[index].patient)\n",
    "\n",
    "def show_prediction(image_ds: BrainImageDataset,\n",
    "                    index: int,\n",
    "                    net: nn.Module,\n",
    "                    threshold=0.8) -> None:\n",
    "    fig, ax = plt.subplots(2, 2)\n",
    "\n",
    "    ax[0, 0].imshow(np.squeeze(image_ds[index].image).T)\n",
    "    ax[0, 0].set_title(image_ds[index].patient)\n",
    "    _remove_ticklabels(ax[0, 0])\n",
    "\n",
    "    true = np.squeeze(image_ds[index].mask).T\n",
    "    ax[0, 1].imshow(true, cmap=\"gray\")\n",
    "    ax[0, 1].set_title(\"ground truth\")\n",
    "    _remove_ticklabels(ax[0, 1])\n",
    "\n",
    "    x = image_ds[index].image.view((1,3,256,256)).to(device)\n",
    "    with torch.no_grad():\n",
    "        preds = net(x)\n",
    "    prediction = preds.detach().cpu().numpy()\n",
    "    prediction = np.squeeze(prediction[0]).T\n",
    "    ax[1, 0].imshow(prediction, cmap=\"gray\")\n",
    "    ax[1, 0].set_title(\"prediction\")\n",
    "    _remove_ticklabels(ax[1, 0])\n",
    "\n",
    "    empty_image_rgb = np.zeros((256, 256, 3), dtype=np.uint8)\n",
    "    for i in range(0, 256):\n",
    "      for j in range(0, 256):\n",
    "        if true[i, j] > 0.5:\n",
    "          empty_image_rgb[i, j, 0] = 255\n",
    "        if prediction[i, j] > threshold:\n",
    "          empty_image_rgb[i, j, 1] = 255\n",
    "\n",
    "\n",
    "    ax[1, 1].imshow(empty_image_rgb)\n",
    "    ax[1, 1].set_title(\"prediction overlay\")\n",
    "    ax[1, 1].text(-120, 20, \"ground truth\", color=\"red\", fontsize=8)\n",
    "    ax[1, 1].text(-120, 35, \"prediction\", color=\"green\", fontsize=8)\n",
    "    ax[1, 1].text(-120, 50, \"overlay\", color=\"yellow\", fontsize=8)\n",
    "    _remove_ticklabels(ax[1, 1])\n",
    "\n",
    "def show_segmentation(\n",
    "    image_ds: BrainImageDataset,\n",
    "    index: int,\n",
    "    net: nn.Module,\n",
    "    threshold=0.8\n",
    "):\n",
    "    image_rgb = np.zeros((256, 256, 3), dtype=np.uint8)\n",
    "    # image = TF.adjust_brightness(image_ds[index].image, 6.0)\n",
    "    brain_image = np.squeeze(image_ds[index].image).T\n",
    "    brain_mask = np.squeeze(image_ds[index].mask).T\n",
    "    input = image_ds[index].image.view((1,3,256,256)).to(device)\n",
    "    with torch.no_grad():\n",
    "        preds = net(input)\n",
    "    prediction = preds.detach().cpu().numpy()\n",
    "    prediction = np.squeeze(prediction[0]).T\n",
    "    image_rgb[:, :, 0] = brain_image[:, :, 1] * 255\n",
    "    image_rgb[:, :, 1] = brain_image[:, :, 1] * 255\n",
    "    image_rgb[:, :, 2] = brain_image[:, :, 1] * 255\n",
    "\n",
    "    for i in range(0, 256):\n",
    "        for j in range(0, 256):\n",
    "            _draw_outline(brain_mask, image_rgb, i, j, color=\"red\")\n",
    "            _draw_outline(prediction, image_rgb, i, j, color=\"green\", th=threshold)\n",
    "\n",
    "    plt.imshow(image_rgb)\n",
    "    plt.title(image_ds[index].patient)\n",
    "\n",
    "def _remove_ticklabels(ax) -> None:\n",
    "    ax.set_yticklabels([])\n",
    "    ax.set_xticklabels([])\n",
    "\n",
    "def _draw_outline(mask, output, i ,j, color, th=0.5):\n",
    "    channel = 0\n",
    "    if color == \"green\":\n",
    "        channel = 1\n",
    "    if color == \"blue\":\n",
    "        channel = 2\n",
    "    if mask[i, j] > th:\n",
    "        if i == 0 or j == 0 or i == 255 or j == 255:\n",
    "            output[i, j, channel] = 255\n",
    "        elif (mask[i-1, j] < th or mask[i+1, j] < th or\n",
    "              mask[i, j-1] < th or mask[i, j+1] < th):\n",
    "            output[i, j, channel] = 255"
   ]
  },
  {
   "cell_type": "markdown",
   "metadata": {
    "id": "zuK9vjeYC7rJ"
   },
   "source": [
    "## Test the segmentation"
   ]
  },
  {
   "cell_type": "code",
   "execution_count": 16,
   "metadata": {
    "colab": {
     "base_uri": "https://localhost:8080/"
    },
    "id": "EC62r_yeR0nF",
    "outputId": "a686135d-2730-46f9-8bf4-ae92f431498a"
   },
   "outputs": [
    {
     "name": "stdout",
     "output_type": "stream",
     "text": [
      "One by one loss values: dice loss: 0.04252324253320694\n",
      "batch by batch loss values: dice loss: 0.31036409735679626\n",
      "Patient 107743: dice loss: 0.05151310935616493\n",
      "Patient 109769: dice loss: 0.06200608238577843\n",
      "Patient 109898: dice loss: 0.056835416704416275\n",
      "Patient 110537: dice loss: 0.060260359197854996\n",
      "Patient 108550: dice loss: 0.06010804697871208\n",
      "Patient 110116: dice loss: 0.04237937927246094\n",
      "Patient 101145: dice loss: 0.05278034135699272\n",
      "Patient 102648: dice loss: 0.044185858219861984\n",
      "Patient 112002: dice loss: 0.036658238619565964\n",
      "Patient MR049942B: dice loss: 0.04606835916638374\n",
      "Patient MR040240B: dice loss: 0.03716422989964485\n",
      "Patient MR024780B: dice loss: 0.03721648454666138\n",
      "Patient MR026175E: dice loss: 0.03605388477444649\n",
      "Patient 102929: dice loss: 0.036227717995643616\n",
      "Patient MR049242C: dice loss: 0.040976595133543015\n",
      "Patient MR053241C: dice loss: 0.04206831753253937\n",
      "Patient 105374: dice loss: 0.03258241340517998\n",
      "Patient 106914: dice loss: 0.03478066623210907\n",
      "Patient 100639: dice loss: 0.03605598211288452\n",
      "Patient 113098: dice loss: 0.030582815408706665\n",
      "Patient 99815: dice loss: 0.030933985486626625\n",
      "Patient 101020: dice loss: 0.03393604978919029\n",
      "Patient 100416: dice loss: 0.0366603285074234\n"
     ]
    }
   ],
   "source": [
    "dice_loss = DiceLoss()\n",
    "loss_dice = []\n",
    "test_dice_loss = {}\n",
    "for i, data in enumerate(test_dl):\n",
    "  x, y_true, _, info = data\n",
    "  x, y_true = x.to(device), y_true.to(device)\n",
    "  with torch.no_grad():\n",
    "    y_pred, _ = net(x)\n",
    "    loss_dice.append(dice_loss(y_pred, y_true).detach().cpu().numpy())\n",
    "    add_loss_by_patient(test_dice_loss, info, dice_loss, y_pred, y_true)\n",
    "print(f\"One by one loss values: dice loss: {np.mean([np.mean(v) for k,v in test_dice_loss.items()])}\")\n",
    "print(f\"batch by batch loss values: dice loss: {np.mean(loss_dice)}\")\n",
    "for patient in test_dice_loss:\n",
    "    print(f\"Patient {patient}: dice loss: {np.mean(test_dice_loss[patient])}\")"
   ]
  },
  {
   "cell_type": "markdown",
   "metadata": {
    "id": "peoQPkSxqpDh"
   },
   "source": [
    "## Test the classification"
   ]
  },
  {
   "cell_type": "code",
   "execution_count": null,
   "metadata": {
    "id": "Rchz9c-C9HBL"
   },
   "outputs": [],
   "source": [
    "!rm -rf /content/class"
   ]
  },
  {
   "cell_type": "markdown",
   "metadata": {
    "id": "pIFgP-J9igIk"
   },
   "source": [
    "Create the folder structure for classification"
   ]
  },
  {
   "cell_type": "markdown",
   "metadata": {
    "id": "2nUwB9xGrDL7"
   },
   "source": [
    "Load previous model"
   ]
  },
  {
   "cell_type": "code",
   "execution_count": null,
   "metadata": {
    "colab": {
     "base_uri": "https://localhost:8080/"
    },
    "id": "rtCaABzm0LKm",
    "outputId": "d42d6a35-a756-4845-d591-ef48f266c85c"
   },
   "outputs": [
    {
     "name": "stdout",
     "output_type": "stream",
     "text": [
      "Model loaded\n"
     ]
    }
   ],
   "source": [
    "net = BrainAnalyserModel()\n",
    "if device == \"cuda:0\":\n",
    "    net.load_state_dict(torch.load(HyperParameters.CLASSIFICATION_MODEL_PATH, weights_only=True))\n",
    "else:\n",
    "    net.load_state_dict(torch.load(\"/content/drive/MyDrive/brain/Ynet.pt\", map_location=torch.device('cpu'), weights_only=True))\n",
    "net.to(device)\n",
    "print(\"Model loaded\")"
   ]
  },
  {
   "cell_type": "code",
   "execution_count": null,
   "metadata": {
    "colab": {
     "base_uri": "https://localhost:8080/"
    },
    "id": "me4JkE4QykHJ",
    "outputId": "7106e965-dacf-49b4-a97f-d9487666dcf6"
   },
   "outputs": [
    {
     "name": "stdout",
     "output_type": "stream",
     "text": [
      "Test Loss: 1.8551\n",
      "Test Accuracy of meningioma_tumor: 73.684%\n",
      "Test Accuracy of glioma_tumor: 78.740%\n",
      "Test Accuracy of pituitary_tumor: 47.727%\n",
      "Full Test Accuracy: 67.65    % 184.0 out of 272.0\n"
     ]
    }
   ],
   "source": [
    "import numpy as np\n",
    "import torch\n",
    "\n",
    "criterion = torch.nn.CrossEntropyLoss()\n",
    "class_count = 3\n",
    "classes = [\n",
    "    \"meningioma_tumor\",\n",
    "    \"glioma_tumor\",\n",
    "    \"pituitary_tumor\",\n",
    "]\n",
    "\n",
    "test_loss = 0.0\n",
    "class_correct = [0.0] * class_count\n",
    "class_total = [0.0] * class_count\n",
    "points = np.array([[0] * class_count for _ in range(class_count)], np.int32)\n",
    "\n",
    "for data in test_dl:\n",
    "    image, target_cuda = data.image.to(device), data.label.to(device)\n",
    "    # forward pass\n",
    "    _, output = net(image)\n",
    "    # batch loss\n",
    "    loss = criterion(output, target_cuda)\n",
    "    # test loss update\n",
    "    test_loss += loss.item() * image.size(0)\n",
    "    # convert output probabilities to predicted class\n",
    "    _, pred = torch.max(output, 1)\n",
    "    # compare predictions to true label\n",
    "    correct_tensor = pred.eq(target_cuda.data.view_as(pred))\n",
    "    correct = np.squeeze(correct_tensor.detach().cpu().numpy())\n",
    "    # calculate test accuracy for each object class\n",
    "    for i in range(len(data.label)):\n",
    "        label = data.label.data[i]\n",
    "        class_correct[label] += correct[i].item()\n",
    "        class_total[label] += 1\n",
    "        points[int(pred.data[i]), int(label)] += 1\n",
    "\n",
    "# average test loss\n",
    "test_loss = test_loss / len(test_dl.dataset)\n",
    "print(f\"Test Loss: {test_loss:.4f}\")\n",
    "\n",
    "for i, label in enumerate(classes):\n",
    "    if class_total[i] > 0:\n",
    "        print(f\"Test Accuracy of {label}: {100*class_correct[i]/class_total[i]:.3f}%\")\n",
    "    else:\n",
    "        print(f\"Test Accuracy of {label}s: N/A (no training examples)\")\n",
    "\n",
    "print(\n",
    "    f\"Full Test Accuracy: {round(100. * np.sum(class_correct) / np.sum(class_total), 2)}\\\n",
    "    % {np.sum(class_correct)} out of {np.sum(class_total)}\"\n",
    ")"
   ]
  },
  {
   "cell_type": "code",
   "execution_count": null,
   "metadata": {
    "colab": {
     "base_uri": "https://localhost:8080/",
     "height": 435
    },
    "id": "h3klNFQEKczu",
    "outputId": "187a1efc-e65d-474b-cc72-3c53593d2678"
   },
   "outputs": [
    {
     "data": {
      "text/plain": [
       "Text(0.5, 1.0, 'Accuracy')"
      ]
     },
     "execution_count": 26,
     "metadata": {},
     "output_type": "execute_result"
    },
    {
     "data": {
      "image/png": "[encoded data removed]",
      "text/plain": [
       "<Figure size 640x480 with 2 Axes>"
      ]
     },
     "metadata": {},
     "output_type": "display_data"
    }
   ],
   "source": [
    "import seaborn as sns\n",
    "import matplotlib.pyplot as plt\n",
    "plt.figure()\n",
    "sns.heatmap(points, linewidths=1, annot=True, xticklabels=classes, yticklabels=classes)\n",
    "plt.subplots_adjust(left=0.36, bottom=0.36)\n",
    "plt.xlabel(\"ground truth\")\n",
    "plt.xticks(rotation=-30, ha=\"left\", rotation_mode=\"anchor\")\n",
    "plt.yticks(rotation=0, ha=\"right\", rotation_mode=\"anchor\")\n",
    "plt.ylabel(\"predicted\")\n",
    "plt.title(f\"Accuracy\")"
   ]
  }
 ],
 "metadata": {
  "accelerator": "GPU",
  "colab": {
   "gpuType": "T4",
   "provenance": []
  },
  "kernelspec": {
   "display_name": "Python 3",
   "name": "python3"
  },
  "language_info": {
   "name": "python"
  }
 },
 "nbformat": 4,
 "nbformat_minor": 0
}
